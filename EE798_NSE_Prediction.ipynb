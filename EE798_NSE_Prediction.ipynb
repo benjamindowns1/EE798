{
 "cells": [
  {
   "cell_type": "code",
   "execution_count": 5,
   "id": "2c911848",
   "metadata": {},
   "outputs": [],
   "source": [
    "import pandas as pd\n",
    "import numpy as np\n",
    "import seaborn as sns\n",
    "import matplotlib.pyplot as plt\n",
    "\n",
    "import datetime as dt\n",
    "\n",
    "from sklearn.preprocessing import StandardScaler,MinMaxScaler\n",
    "from statsmodels.tsa.stattools import adfuller\n",
    "from sklearn.metrics import mean_squared_error, mean_absolute_error, explained_variance_score, r2_score \n",
    "from sklearn.metrics import mean_poisson_deviance, mean_gamma_deviance, accuracy_score\n",
    "\n",
    "import tensorflow as tf\n",
    "from tensorflow.keras.models import Sequential\n",
    "from tensorflow.keras.layers import Dense, Dropout\n",
    "from tensorflow.keras.layers import LSTM, GRU\n",
    "\n",
    "from itertools import cycle\n",
    "import plotly.graph_objects as go\n",
    "import plotly.express as px\n",
    "from plotly.subplots import make_subplots\n"
   ]
  },
  {
   "cell_type": "code",
   "execution_count": 6,
   "id": "2256c976",
   "metadata": {},
   "outputs": [
    {
     "name": "stdout",
     "output_type": "stream",
     "text": [
      "2/2 [==============================] - 1s 0s/step\n",
      "Predicted Close Price for Next Day: [7124.877]\n",
      "Predicted Close Price for Day After Next: [7191.136]\n"
     ]
    }
   ],
   "source": [
    "df= pd.read_csv(r\"C:\\Users\\user\\Downloads\\1f919cc3e58d50718991255baf55c2cade242853d0ee9f149cb7c17da1c37f4f_sample_test (1)\\sample_input.csv\")\n",
    "\n",
    "import tensorflow as tf\n",
    "from sklearn.preprocessing import MinMaxScaler\n",
    "from tensorflow.keras.models import Sequential\n",
    "from tensorflow.keras.layers import Dense, GRU, Dropout\n",
    "\n",
    "# Filling Null Values\n",
    "for i in df.columns:\n",
    "    df[i].ffill(inplace=True)\n",
    "\n",
    "# Create a new dataframe with only the 'Close column \n",
    "closing_prices = df.filter(['Close'])\n",
    "# Convert the dataframe to a numpy array\n",
    "dataset = closing_prices.values\n",
    "\n",
    "# Normalizing Data\n",
    "scaler = MinMaxScaler(feature_range=(0,1))\n",
    "scaled_data = scaler.fit_transform(dataset)\n",
    "\n",
    "\n",
    "# Preparing Dataset\n",
    "def prepare_prediction_data(data, stepping_time):\n",
    "    x_predict = []\n",
    "    for i in range(len(data) - stepping_time):\n",
    "        x_predict.append(data[i:(i + stepping_time), 0])\n",
    "    return np.array(x_predict)\n",
    "\n",
    "\n",
    "stepping_time = 10\n",
    "x_predict = prepare_prediction_data(scaled_data,stepping_time)\n",
    "\n",
    "tf.keras.backend.clear_session()\n",
    "model=Sequential()\n",
    "model.add(GRU(32,return_sequences=True,input_shape=(stepping_time,1)))\n",
    "model.add(GRU(32,return_sequences=False))\n",
    "model.add(Dropout(0.10))\n",
    "model.add(Dense(1))\n",
    "model.compile(loss='mean_squared_error',optimizer='adam')\n",
    "model.load_weights(r'C:\\Users\\user\\EE798\\MODEL3.h5')\n",
    "\n",
    "# Predict future close prices\n",
    "predicted_close_prices = model.predict(x_predict)\n",
    "\n",
    "predicted_close_prices = scaler.inverse_transform(predicted_close_prices)\n",
    "print('Predicted Close Price for Next Day:', predicted_close_prices[-2])\n",
    "print('Predicted Close Price for Day After Next:', predicted_close_prices[-1])"
   ]
  },
  {
   "cell_type": "code",
   "execution_count": 7,
   "id": "cbb1663e",
   "metadata": {},
   "outputs": [
    {
     "name": "stdout",
     "output_type": "stream",
     "text": [
      "MSE: 556.4042353548579\n"
     ]
    }
   ],
   "source": [
    "a = ( 6696- 7232.200195)**2\n",
    "b = ( 6702 - 7277.899902)**2\n",
    "c = ((a+b)/2)**0.5\n",
    "print(\"MSE:\", c)"
   ]
  },
  {
   "cell_type": "code",
   "execution_count": 3,
   "id": "7d005c08",
   "metadata": {},
   "outputs": [
    {
     "name": "stdout",
     "output_type": "stream",
     "text": [
      "[7124.877]\n",
      "[7191.136]\n"
     ]
    }
   ],
   "source": [
    "a = ( predicted_close_prices[-2])\n",
    "b = ( predicted_close_prices[-1])\n",
    "print(a)\n",
    "print(b)"
   ]
  }
 ],
 "metadata": {
  "kernelspec": {
   "display_name": "Python 3 (ipykernel)",
   "language": "python",
   "name": "python3"
  },
  "language_info": {
   "codemirror_mode": {
    "name": "ipython",
    "version": 3
   },
   "file_extension": ".py",
   "mimetype": "text/x-python",
   "name": "python",
   "nbconvert_exporter": "python",
   "pygments_lexer": "ipython3",
   "version": "3.9.7"
  }
 },
 "nbformat": 4,
 "nbformat_minor": 5
}
