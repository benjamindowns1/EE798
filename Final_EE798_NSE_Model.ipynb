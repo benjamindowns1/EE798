{
 "cells": [
  {
   "cell_type": "code",
   "execution_count": 3,
   "id": "cdef6a3d",
   "metadata": {},
   "outputs": [],
   "source": [
    "import pandas as pd\n",
    "import numpy as np\n",
    "import seaborn as sns\n",
    "import matplotlib.pyplot as plt\n",
    "\n",
    "import datetime as dt\n",
    "\n",
    "from sklearn.preprocessing import StandardScaler,MinMaxScaler\n",
    "from statsmodels.tsa.stattools import adfuller\n",
    "from sklearn.metrics import mean_squared_error, mean_absolute_error, explained_variance_score, r2_score \n",
    "from sklearn.metrics import mean_poisson_deviance, mean_gamma_deviance, accuracy_score\n",
    "\n",
    "import tensorflow as tf\n",
    "from tensorflow.keras.models import Sequential\n",
    "from tensorflow.keras.layers import Dense, Dropout\n",
    "from tensorflow.keras.layers import LSTM, GRU\n",
    "\n",
    "from itertools import cycle\n",
    "import plotly.graph_objects as go\n",
    "import plotly.express as px\n",
    "from plotly.subplots import make_subplots\n",
    "\n"
   ]
  },
  {
   "cell_type": "code",
   "execution_count": 2,
   "id": "2d6cb8fd",
   "metadata": {},
   "outputs": [],
   "source": [
    "df= pd.read_csv(r'C:\\Users\\user\\Downloads\\0f411c708e55af442eafb33bfb7ee7585f5b0211a52d9ccc4287a23d8d6abe76_STOCK_INDEX.csv')"
   ]
  },
  {
   "cell_type": "code",
   "execution_count": 3,
   "id": "c604eb8d",
   "metadata": {},
   "outputs": [],
   "source": [
    "df_num = df.drop('Date',axis=1)"
   ]
  },
  {
   "cell_type": "code",
   "execution_count": 4,
   "id": "15f88898",
   "metadata": {},
   "outputs": [],
   "source": [
    "for i in df_num.columns:\n",
    "    df_num[i].ffill(inplace=True)"
   ]
  },
  {
   "cell_type": "code",
   "execution_count": 5,
   "id": "21c7f33e",
   "metadata": {},
   "outputs": [],
   "source": [
    "# Create a new dataframe with only the 'Close column \n",
    "closing_prices = df_num.filter(['Close'])\n",
    "# Convert the dataframe to a numpy array\n",
    "dataset = closing_prices.values\n",
    "\n",
    "# Normalizing Data\n",
    "scaler = MinMaxScaler(feature_range=(0,1))\n",
    "scaled_data = scaler.fit_transform(dataset)\n",
    "\n",
    "\n",
    "# Getting  the train and test array\n",
    "training_data_len = int(( len(dataset) * .80 ))\n",
    "train_data, test_data = scaled_data[:training_data_len], scaled_data[training_data_len:]\n"
   ]
  },
  {
   "cell_type": "code",
   "execution_count": 7,
   "id": "dc0bde35",
   "metadata": {},
   "outputs": [],
   "source": [
    "# Preparing Dataset\n",
    "def prepare_x_train_y_train(data, stepping_time):\n",
    "    x_train = []\n",
    "    y_train = []\n",
    "    for i in range(len(data)-stepping_time-1):\n",
    "        x_train.append(data[i:i+stepping_time,0])\n",
    "        y_train.append(data[i+stepping_time,0])\n",
    "    return np.array(x_train), np.array(y_train)"
   ]
  },
  {
   "cell_type": "code",
   "execution_count": 8,
   "id": "512748af",
   "metadata": {},
   "outputs": [],
   "source": [
    "stepping_time = 10\n",
    "x_train, y_train = prepare_x_train_y_train(train_data, stepping_time)\n",
    "x_test, y_test = prepare_x_train_y_train(test_data, stepping_time)"
   ]
  },
  {
   "cell_type": "code",
   "execution_count": 9,
   "id": "604dc6dd",
   "metadata": {
    "scrolled": false
   },
   "outputs": [
    {
     "name": "stdout",
     "output_type": "stream",
     "text": [
      "Epoch 1/40\n",
      "67/67 [==============================] - 3s 13ms/step - loss: 0.0051 - val_loss: 6.0848e-04\n",
      "Epoch 2/40\n",
      "67/67 [==============================] - 0s 5ms/step - loss: 8.5442e-04 - val_loss: 5.6782e-04\n",
      "Epoch 3/40\n",
      "67/67 [==============================] - 0s 5ms/step - loss: 6.7289e-04 - val_loss: 5.9566e-04\n",
      "Epoch 4/40\n",
      "67/67 [==============================] - 0s 5ms/step - loss: 5.9672e-04 - val_loss: 5.3193e-04\n",
      "Epoch 5/40\n",
      "67/67 [==============================] - 0s 5ms/step - loss: 5.8084e-04 - val_loss: 5.7743e-04\n",
      "Epoch 6/40\n",
      "67/67 [==============================] - 0s 5ms/step - loss: 5.6747e-04 - val_loss: 5.1763e-04\n",
      "Epoch 7/40\n",
      "67/67 [==============================] - 0s 5ms/step - loss: 5.4557e-04 - val_loss: 7.8609e-04\n",
      "Epoch 8/40\n",
      "67/67 [==============================] - 0s 5ms/step - loss: 5.2070e-04 - val_loss: 5.4164e-04\n",
      "Epoch 9/40\n",
      "67/67 [==============================] - 0s 4ms/step - loss: 4.7038e-04 - val_loss: 4.7144e-04\n",
      "Epoch 10/40\n",
      "67/67 [==============================] - 0s 5ms/step - loss: 4.7142e-04 - val_loss: 4.6198e-04\n",
      "Epoch 11/40\n",
      "67/67 [==============================] - 0s 6ms/step - loss: 4.5331e-04 - val_loss: 0.0020\n",
      "Epoch 12/40\n",
      "67/67 [==============================] - 0s 6ms/step - loss: 4.2462e-04 - val_loss: 5.5080e-04\n",
      "Epoch 13/40\n",
      "67/67 [==============================] - 0s 5ms/step - loss: 3.8194e-04 - val_loss: 4.3098e-04\n",
      "Epoch 14/40\n",
      "67/67 [==============================] - 0s 4ms/step - loss: 4.1752e-04 - val_loss: 6.4980e-04\n",
      "Epoch 15/40\n",
      "67/67 [==============================] - 0s 4ms/step - loss: 3.8120e-04 - val_loss: 4.0428e-04\n",
      "Epoch 16/40\n",
      "67/67 [==============================] - 0s 5ms/step - loss: 3.9797e-04 - val_loss: 7.4356e-04\n",
      "Epoch 17/40\n",
      "67/67 [==============================] - 0s 4ms/step - loss: 4.0147e-04 - val_loss: 3.5577e-04\n",
      "Epoch 18/40\n",
      "67/67 [==============================] - 0s 5ms/step - loss: 3.9269e-04 - val_loss: 4.7261e-04\n",
      "Epoch 19/40\n",
      "67/67 [==============================] - 0s 5ms/step - loss: 3.5622e-04 - val_loss: 3.4851e-04\n",
      "Epoch 20/40\n",
      "67/67 [==============================] - 0s 5ms/step - loss: 3.3411e-04 - val_loss: 5.6249e-04\n",
      "Epoch 21/40\n",
      "67/67 [==============================] - 0s 4ms/step - loss: 3.5692e-04 - val_loss: 4.9874e-04\n",
      "Epoch 22/40\n",
      "67/67 [==============================] - 0s 6ms/step - loss: 3.3347e-04 - val_loss: 5.3060e-04\n",
      "Epoch 23/40\n",
      "67/67 [==============================] - 0s 4ms/step - loss: 3.3667e-04 - val_loss: 4.6639e-04\n",
      "Epoch 24/40\n",
      "67/67 [==============================] - 0s 4ms/step - loss: 2.9174e-04 - val_loss: 3.1582e-04\n",
      "Epoch 25/40\n",
      "67/67 [==============================] - 0s 4ms/step - loss: 3.2062e-04 - val_loss: 5.2028e-04\n",
      "Epoch 26/40\n",
      "67/67 [==============================] - 0s 4ms/step - loss: 3.1696e-04 - val_loss: 4.6938e-04\n",
      "Epoch 27/40\n",
      "67/67 [==============================] - 0s 4ms/step - loss: 3.4589e-04 - val_loss: 3.7598e-04\n",
      "Epoch 28/40\n",
      "67/67 [==============================] - 0s 4ms/step - loss: 2.7259e-04 - val_loss: 2.9201e-04\n",
      "Epoch 29/40\n",
      "67/67 [==============================] - 0s 4ms/step - loss: 2.6821e-04 - val_loss: 3.8151e-04\n",
      "Epoch 30/40\n",
      "67/67 [==============================] - 0s 6ms/step - loss: 2.7401e-04 - val_loss: 3.3694e-04\n",
      "Epoch 31/40\n",
      "67/67 [==============================] - 0s 5ms/step - loss: 2.5783e-04 - val_loss: 3.0842e-04\n",
      "Epoch 32/40\n",
      "67/67 [==============================] - 0s 4ms/step - loss: 3.0313e-04 - val_loss: 3.4147e-04\n",
      "Epoch 33/40\n",
      "67/67 [==============================] - 0s 4ms/step - loss: 2.4557e-04 - val_loss: 3.5677e-04\n",
      "Epoch 34/40\n",
      "67/67 [==============================] - 0s 4ms/step - loss: 2.4154e-04 - val_loss: 3.1152e-04\n",
      "Epoch 35/40\n",
      "67/67 [==============================] - 0s 4ms/step - loss: 2.4073e-04 - val_loss: 3.2125e-04\n",
      "Epoch 36/40\n",
      "67/67 [==============================] - 0s 4ms/step - loss: 2.4709e-04 - val_loss: 5.1289e-04\n",
      "Epoch 37/40\n",
      "67/67 [==============================] - 0s 5ms/step - loss: 2.4878e-04 - val_loss: 2.6617e-04\n",
      "Epoch 38/40\n",
      "67/67 [==============================] - 0s 5ms/step - loss: 2.3120e-04 - val_loss: 2.9655e-04\n",
      "Epoch 39/40\n",
      "67/67 [==============================] - 0s 4ms/step - loss: 2.0435e-04 - val_loss: 2.8284e-04\n",
      "Epoch 40/40\n",
      "67/67 [==============================] - 0s 4ms/step - loss: 2.2768e-04 - val_loss: 2.5130e-04\n"
     ]
    },
    {
     "data": {
      "text/plain": [
       "<keras.callbacks.History at 0x1f18cd67d30>"
      ]
     },
     "execution_count": 9,
     "metadata": {},
     "output_type": "execute_result"
    }
   ],
   "source": [
    "tf.keras.backend.clear_session()\n",
    "model=Sequential()\n",
    "model.add(GRU(32,return_sequences=True,input_shape=(stepping_time,1)))\n",
    "model.add(GRU(32,return_sequences=False))\n",
    "model.add(Dropout(0.10))\n",
    "model.add(Dense(1))\n",
    "model.compile(loss='mean_squared_error',optimizer='adam')\n",
    "model.fit(x_train, y_train,validation_data=(x_test,y_test), epochs=40,batch_size=32)"
   ]
  },
  {
   "cell_type": "code",
   "execution_count": 2,
   "id": "75de74ee",
   "metadata": {},
   "outputs": [
    {
     "ename": "NameError",
     "evalue": "name 'MinMaxScaler' is not defined",
     "output_type": "error",
     "traceback": [
      "\u001b[1;31m---------------------------------------------------------------------------\u001b[0m",
      "\u001b[1;31mNameError\u001b[0m                                 Traceback (most recent call last)",
      "\u001b[1;32m~\\AppData\\Local\\Temp/ipykernel_51120/1074933459.py\u001b[0m in \u001b[0;36m<module>\u001b[1;34m\u001b[0m\n\u001b[0;32m      1\u001b[0m \u001b[1;31m# Normalizing Data\u001b[0m\u001b[1;33m\u001b[0m\u001b[1;33m\u001b[0m\u001b[0m\n\u001b[1;32m----> 2\u001b[1;33m \u001b[0mscaler\u001b[0m \u001b[1;33m=\u001b[0m \u001b[0mMinMaxScaler\u001b[0m\u001b[1;33m(\u001b[0m\u001b[0mfeature_range\u001b[0m\u001b[1;33m=\u001b[0m\u001b[1;33m(\u001b[0m\u001b[1;36m0\u001b[0m\u001b[1;33m,\u001b[0m\u001b[1;36m1\u001b[0m\u001b[1;33m)\u001b[0m\u001b[1;33m)\u001b[0m\u001b[1;33m\u001b[0m\u001b[1;33m\u001b[0m\u001b[0m\n\u001b[0m\u001b[0;32m      3\u001b[0m \u001b[0mscaled_data\u001b[0m \u001b[1;33m=\u001b[0m \u001b[0mscaler\u001b[0m\u001b[1;33m.\u001b[0m\u001b[0mfit_transform\u001b[0m\u001b[1;33m(\u001b[0m\u001b[0mdataset\u001b[0m\u001b[1;33m)\u001b[0m\u001b[1;33m\u001b[0m\u001b[1;33m\u001b[0m\u001b[0m\n",
      "\u001b[1;31mNameError\u001b[0m: name 'MinMaxScaler' is not defined"
     ]
    }
   ],
   "source": [
    "# Normalizing Data\n",
    "scaler = MinMaxScaler(feature_range=(0,1))\n",
    "scaled_data = scaler.fit_transform(dataset)"
   ]
  },
  {
   "cell_type": "code",
   "execution_count": 10,
   "id": "88f12758",
   "metadata": {},
   "outputs": [
    {
     "name": "stdout",
     "output_type": "stream",
     "text": [
      "17/17 [==============================] - 1s 2ms/step\n"
     ]
    },
    {
     "data": {
      "text/plain": [
       "170.74001841703708"
      ]
     },
     "execution_count": 10,
     "metadata": {},
     "output_type": "execute_result"
    }
   ],
   "source": [
    "predictions = model.predict(x_test)\n",
    "predictions = scaler.inverse_transform(predictions)\n",
    "y_test = scaler.inverse_transform(y_test.reshape(-1,1))\n",
    "\n",
    "# Get the root mean squared error (RMSE)\n",
    "rmse = (np.sqrt(np.mean(((predictions - y_test) ** 2))))\n",
    "rmse"
   ]
  },
  {
   "cell_type": "code",
   "execution_count": 11,
   "id": "4e72a572",
   "metadata": {
    "scrolled": true
   },
   "outputs": [
    {
     "name": "stdout",
     "output_type": "stream",
     "text": [
      "GRU model weights saved successfully.\n"
     ]
    }
   ],
   "source": [
    "# Save the model weights            \n",
    "model.save_weights('MODEL3.h5')\n",
    "print('GRU model weights saved successfully.')"
   ]
  }
 ],
 "metadata": {
  "kernelspec": {
   "display_name": "Python 3 (ipykernel)",
   "language": "python",
   "name": "python3"
  },
  "language_info": {
   "codemirror_mode": {
    "name": "ipython",
    "version": 3
   },
   "file_extension": ".py",
   "mimetype": "text/x-python",
   "name": "python",
   "nbconvert_exporter": "python",
   "pygments_lexer": "ipython3",
   "version": "3.9.7"
  }
 },
 "nbformat": 4,
 "nbformat_minor": 5
}
