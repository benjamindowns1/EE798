{
 "cells": [
  {
   "cell_type": "code",
   "execution_count": 45,
   "id": "0eb27d0a",
   "metadata": {},
   "outputs": [
    {
     "name": "stdout",
     "output_type": "stream",
     "text": [
      "2/2 [==============================] - 2s 14ms/step\n",
      "Predicted Close Price for Next Day: [7113.877]\n",
      "Predicted Close Price for Day After Next: [7160.9336]\n"
     ]
    }
   ],
   "source": [
    "import pandas as pd\n",
    "import numpy as np\n",
    "\n",
    "# Load the dataset\n",
    "df = pd.read_csv('C:/Users/DELL/Desktop/ENDSEM_EE798/sample_input.csv')\n",
    "\n",
    "import tensorflow as tf\n",
    "from sklearn.preprocessing import MinMaxScaler\n",
    "from tensorflow.keras.models import Sequential\n",
    "from tensorflow.keras.layers import Dense, GRU, Dropout\n",
    "\n",
    "# Extract the 'Close' column\n",
    "close_prices = df.Close\n",
    "#Deal with missing values\n",
    "close_prices=close_prices.ffill()\n",
    "close_prices=close_prices.values.reshape(-1, 1)\n",
    "\n",
    "# Normalize\n",
    "scaler = MinMaxScaler()\n",
    "scaled_close_prices = scaler.fit_transform(close_prices)\n",
    "\n",
    "# Prepare data\n",
    "def prepare_data(data, steps):\n",
    "    X = []\n",
    "    for i in range(len(data) - steps):\n",
    "        X.append(data[i:(i + steps), 0])\n",
    "    return np.array(X)\n",
    "\n",
    "steps = 10  # Number of time steps\n",
    "X_predict = prepare_data(scaled_close_prices, steps)\n",
    "\n",
    "# Load the model\n",
    "tf.keras.backend.clear_session()\n",
    "model=Sequential()\n",
    "model.add(GRU(64,return_sequences=True,input_shape=(steps,1)))\n",
    "#model.add(GRU(32,return_sequences=True))\n",
    "model.add(GRU(64))\n",
    "model.add(Dropout(0.15))\n",
    "model.add(Dense(1))\n",
    "model.compile(optimizer='adam', loss='mean_squared_error')\n",
    "model.load_weights('C:/Users/DELL/PYTHON_FILES/MODEL1.h5')  # Replace with model weights\n",
    "\n",
    "# Predict future close prices\n",
    "predicted_close_prices = model.predict(X_predict)\n",
    "\n",
    "# De normalization of predicted prices\n",
    "predicted_close_prices = scaler.inverse_transform(predicted_close_prices)\n",
    "\n",
    "# print predicted close prices\n",
    "print('Predicted Close Price for Next Day:', predicted_close_prices[-2])\n",
    "print('Predicted Close Price for Day After Next:', predicted_close_prices[-1])\n",
    "#return [predicted_close_prices[-2],predicted_close_prices[-1]]\n"
   ]
  },
  {
   "cell_type": "code",
   "execution_count": 46,
   "id": "0be1f971",
   "metadata": {},
   "outputs": [
    {
     "name": "stdout",
     "output_type": "stream",
     "text": [
      "MSE: [117.646736]\n"
     ]
    }
   ],
   "source": [
    "a = ( predicted_close_prices[-2] - 7232.200195)**2\n",
    "b = ( predicted_close_prices[-1] - 7277.899902)**2\n",
    "c = ((a+b)/2)**0.5\n",
    "print(\"MSE:\", c)"
   ]
  },
  {
   "cell_type": "code",
   "execution_count": null,
   "id": "e2163ff2",
   "metadata": {},
   "outputs": [],
   "source": []
  }
 ],
 "metadata": {
  "kernelspec": {
   "display_name": "Python 3 (ipykernel)",
   "language": "python",
   "name": "python3"
  },
  "language_info": {
   "codemirror_mode": {
    "name": "ipython",
    "version": 3
   },
   "file_extension": ".py",
   "mimetype": "text/x-python",
   "name": "python",
   "nbconvert_exporter": "python",
   "pygments_lexer": "ipython3",
   "version": "3.9.7"
  }
 },
 "nbformat": 4,
 "nbformat_minor": 5
}
